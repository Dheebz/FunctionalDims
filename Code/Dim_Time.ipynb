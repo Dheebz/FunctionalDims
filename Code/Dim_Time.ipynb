{
 "cells": [
  {
   "cell_type": "code",
   "execution_count": 48,
   "metadata": {},
   "outputs": [],
   "source": [
    "from datetime import datetime , timedelta\n",
    "from tqdm import tqdm\n",
    "import pandas as pd "
   ]
  },
  {
   "cell_type": "code",
   "execution_count": 49,
   "metadata": {},
   "outputs": [
    {
     "name": "stderr",
     "output_type": "stream",
     "text": [
      "Generating Dim Time data betweem 1900-01-01 00:00:00 and 1900-01-02 00:00:00 with interval 0:00:01:   0%|          | 0/86400 [01:36<?, ?it/s]\n"
     ]
    }
   ],
   "source": [
    "\n",
    "\n",
    "#Modify desired interval (seconds,minutes,hours)\n",
    "interval = timedelta(seconds=1)\n",
    "TimeStart = datetime(1900, 1, 1, 0, 0, 0)\n",
    "TimeFinal = datetime(1900, 1, 2, 0, 0, 0)\n",
    "\n",
    "Rng = tqdm(range(int((TimeFinal - TimeStart).total_seconds() / interval.total_seconds())),desc=f'Generating Dim Time data betweem {TimeStart} and {TimeFinal} with interval {interval}')\n",
    "records = []"
   ]
  },
  {
   "cell_type": "code",
   "execution_count": 50,
   "metadata": {},
   "outputs": [
    {
     "name": "stderr",
     "output_type": "stream",
     "text": [
      "Generating Dim Time data betweem 1900-01-01 00:00:00 and 1900-01-02 00:00:00 with interval 0:00:01: 100%|██████████| 86400/86400 [00:01<00:00, 56698.60it/s]\n"
     ]
    }
   ],
   "source": [
    "for iteration in Rng:\n",
    "    record = {\n",
    "        #TimeVal = time 'HH:mm:ss'\n",
    "        'TimeVal': (TimeStart + (iteration * interval)).strftime('%H:%M:%S'),\n",
    "        #TimeKey = time 'HHmmss'\n",
    "        'TimeKey': int((TimeStart + (iteration * interval)).strftime('%H%M%S')),\n",
    "        #HourInt\n",
    "        'HourInt': int((TimeStart + (iteration * interval)).strftime('%H')),\n",
    "        #MinuteInt\n",
    "        'MinuteInt': int((TimeStart + (iteration * interval)).strftime('%M')),\n",
    "        #SecondInt\n",
    "        'SecondInt': int((TimeStart + (iteration * interval)).strftime('%S')),\n",
    "    }\n",
    "    records.append(record)"
   ]
  },
  {
   "cell_type": "code",
   "execution_count": 51,
   "metadata": {},
   "outputs": [
    {
     "data": {
      "text/html": [
       "<div>\n",
       "<style scoped>\n",
       "    .dataframe tbody tr th:only-of-type {\n",
       "        vertical-align: middle;\n",
       "    }\n",
       "\n",
       "    .dataframe tbody tr th {\n",
       "        vertical-align: top;\n",
       "    }\n",
       "\n",
       "    .dataframe thead th {\n",
       "        text-align: right;\n",
       "    }\n",
       "</style>\n",
       "<table border=\"1\" class=\"dataframe\">\n",
       "  <thead>\n",
       "    <tr style=\"text-align: right;\">\n",
       "      <th></th>\n",
       "      <th>TimeVal</th>\n",
       "      <th>TimeKey</th>\n",
       "      <th>HourInt</th>\n",
       "      <th>MinuteInt</th>\n",
       "      <th>SecondInt</th>\n",
       "    </tr>\n",
       "  </thead>\n",
       "  <tbody>\n",
       "    <tr>\n",
       "      <th>0</th>\n",
       "      <td>00:00:00</td>\n",
       "      <td>0</td>\n",
       "      <td>0</td>\n",
       "      <td>0</td>\n",
       "      <td>0</td>\n",
       "    </tr>\n",
       "    <tr>\n",
       "      <th>1</th>\n",
       "      <td>00:00:01</td>\n",
       "      <td>1</td>\n",
       "      <td>0</td>\n",
       "      <td>0</td>\n",
       "      <td>1</td>\n",
       "    </tr>\n",
       "    <tr>\n",
       "      <th>2</th>\n",
       "      <td>00:00:02</td>\n",
       "      <td>2</td>\n",
       "      <td>0</td>\n",
       "      <td>0</td>\n",
       "      <td>2</td>\n",
       "    </tr>\n",
       "    <tr>\n",
       "      <th>3</th>\n",
       "      <td>00:00:03</td>\n",
       "      <td>3</td>\n",
       "      <td>0</td>\n",
       "      <td>0</td>\n",
       "      <td>3</td>\n",
       "    </tr>\n",
       "    <tr>\n",
       "      <th>4</th>\n",
       "      <td>00:00:04</td>\n",
       "      <td>4</td>\n",
       "      <td>0</td>\n",
       "      <td>0</td>\n",
       "      <td>4</td>\n",
       "    </tr>\n",
       "    <tr>\n",
       "      <th>...</th>\n",
       "      <td>...</td>\n",
       "      <td>...</td>\n",
       "      <td>...</td>\n",
       "      <td>...</td>\n",
       "      <td>...</td>\n",
       "    </tr>\n",
       "    <tr>\n",
       "      <th>86395</th>\n",
       "      <td>23:59:55</td>\n",
       "      <td>235955</td>\n",
       "      <td>23</td>\n",
       "      <td>59</td>\n",
       "      <td>55</td>\n",
       "    </tr>\n",
       "    <tr>\n",
       "      <th>86396</th>\n",
       "      <td>23:59:56</td>\n",
       "      <td>235956</td>\n",
       "      <td>23</td>\n",
       "      <td>59</td>\n",
       "      <td>56</td>\n",
       "    </tr>\n",
       "    <tr>\n",
       "      <th>86397</th>\n",
       "      <td>23:59:57</td>\n",
       "      <td>235957</td>\n",
       "      <td>23</td>\n",
       "      <td>59</td>\n",
       "      <td>57</td>\n",
       "    </tr>\n",
       "    <tr>\n",
       "      <th>86398</th>\n",
       "      <td>23:59:58</td>\n",
       "      <td>235958</td>\n",
       "      <td>23</td>\n",
       "      <td>59</td>\n",
       "      <td>58</td>\n",
       "    </tr>\n",
       "    <tr>\n",
       "      <th>86399</th>\n",
       "      <td>23:59:59</td>\n",
       "      <td>235959</td>\n",
       "      <td>23</td>\n",
       "      <td>59</td>\n",
       "      <td>59</td>\n",
       "    </tr>\n",
       "  </tbody>\n",
       "</table>\n",
       "<p>86400 rows × 5 columns</p>\n",
       "</div>"
      ],
      "text/plain": [
       "        TimeVal  TimeKey  HourInt  MinuteInt  SecondInt\n",
       "0      00:00:00        0        0          0          0\n",
       "1      00:00:01        1        0          0          1\n",
       "2      00:00:02        2        0          0          2\n",
       "3      00:00:03        3        0          0          3\n",
       "4      00:00:04        4        0          0          4\n",
       "...         ...      ...      ...        ...        ...\n",
       "86395  23:59:55   235955       23         59         55\n",
       "86396  23:59:56   235956       23         59         56\n",
       "86397  23:59:57   235957       23         59         57\n",
       "86398  23:59:58   235958       23         59         58\n",
       "86399  23:59:59   235959       23         59         59\n",
       "\n",
       "[86400 rows x 5 columns]"
      ]
     },
     "metadata": {},
     "output_type": "display_data"
    }
   ],
   "source": [
    "df = pd.DataFrame(records)\n",
    "display(df)"
   ]
  }
 ],
 "metadata": {
  "kernelspec": {
   "display_name": ".venv",
   "language": "python",
   "name": "python3"
  },
  "language_info": {
   "codemirror_mode": {
    "name": "ipython",
    "version": 3
   },
   "file_extension": ".py",
   "mimetype": "text/x-python",
   "name": "python",
   "nbconvert_exporter": "python",
   "pygments_lexer": "ipython3",
   "version": "3.11.2"
  }
 },
 "nbformat": 4,
 "nbformat_minor": 2
}
